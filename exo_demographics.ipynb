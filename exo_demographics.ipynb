{
 "cells": [
  {
   "cell_type": "code",
   "execution_count": 22,
   "id": "16923900-c6fa-4373-9eb2-40bd05b25967",
   "metadata": {
    "tags": []
   },
   "outputs": [
    {
     "name": "stdout",
     "output_type": "stream",
     "text": [
      "root\n",
      " |-- state: string (nullable = true)\n",
      " |-- gender: string (nullable = true)\n",
      " |-- age_group: string (nullable = true)\n",
      " |-- population: integer (nullable = true)\n",
      "\n"
     ]
    }
   ],
   "source": [
    "import pyspark.sql\n",
    "from pyspark.sql import *\n",
    "from pyspark.sql.functions import *\n",
    "\n",
    "spark = SparkSession.builder.getOrCreate() # on crée la session\n",
    "\n",
    "data = spark.read.csv(\"data/demographics_de.csv\", header=True, inferSchema=True) # on récupère le csv et on définit les paramètres\n",
    "\n",
    "data.printSchema() # on affiche le schema"
   ]
  },
  {
   "cell_type": "code",
   "execution_count": 5,
   "id": "cc28650e-d861-482f-a780-70a339ebfd76",
   "metadata": {
    "tags": []
   },
   "outputs": [
    {
     "name": "stdout",
     "output_type": "stream",
     "text": [
      "+------------------+------+---------+----------+\n",
      "|             state|gender|age_group|population|\n",
      "+------------------+------+---------+----------+\n",
      "|Baden-Wuerttemberg|female|    00-04|    261674|\n",
      "|Baden-Wuerttemberg|female|    05-14|    490822|\n",
      "|Baden-Wuerttemberg|female|    15-34|   1293488|\n",
      "|Baden-Wuerttemberg|female|    35-59|   1919649|\n",
      "|Baden-Wuerttemberg|female|    60-79|   1182736|\n",
      "|Baden-Wuerttemberg|female|    80-99|    419471|\n",
      "|Baden-Wuerttemberg|  male|    00-04|    274882|\n",
      "|Baden-Wuerttemberg|  male|    05-14|    517387|\n",
      "|Baden-Wuerttemberg|  male|    15-34|   1423367|\n",
      "|Baden-Wuerttemberg|  male|    35-59|   1955828|\n",
      "|Baden-Wuerttemberg|  male|    60-79|   1065669|\n",
      "|Baden-Wuerttemberg|  male|    80-99|    264560|\n",
      "|            Bayern|female|    00-04|    306378|\n",
      "|            Bayern|female|    05-14|    560549|\n",
      "|            Bayern|female|    15-34|   1507659|\n",
      "|            Bayern|female|    35-59|   2310659|\n",
      "|            Bayern|female|    60-79|   1421273|\n",
      "|            Bayern|female|    80-99|    486410|\n",
      "|            Bayern|  male|    00-04|    321629|\n",
      "|            Bayern|  male|    05-14|    590551|\n",
      "+------------------+------+---------+----------+\n",
      "only showing top 20 rows\n",
      "\n"
     ]
    }
   ],
   "source": [
    "data.createOrReplaceTempView(\"demographics\") # on crée une vue temporaire en la nommant\n",
    "request = spark.sql(\"select * from demographics\")\n",
    "request.show()  #"
   ]
  },
  {
   "cell_type": "code",
   "execution_count": 6,
   "id": "89bf574d-2c17-4924-b50d-146ed286adfb",
   "metadata": {
    "tags": []
   },
   "outputs": [
    {
     "name": "stdout",
     "output_type": "stream",
     "text": [
      "+------------------+------+---------+----------+\n",
      "|             state|gender|age_group|population|\n",
      "+------------------+------+---------+----------+\n",
      "|Baden-Wuerttemberg|female|    00-04|    261674|\n",
      "|Baden-Wuerttemberg|female|    05-14|    490822|\n",
      "|Baden-Wuerttemberg|female|    15-34|   1293488|\n",
      "|Baden-Wuerttemberg|female|    35-59|   1919649|\n",
      "|Baden-Wuerttemberg|female|    60-79|   1182736|\n",
      "|Baden-Wuerttemberg|female|    80-99|    419471|\n",
      "|Baden-Wuerttemberg|  male|    00-04|    274882|\n",
      "|Baden-Wuerttemberg|  male|    05-14|    517387|\n",
      "|Baden-Wuerttemberg|  male|    15-34|   1423367|\n",
      "|Baden-Wuerttemberg|  male|    35-59|   1955828|\n",
      "|Baden-Wuerttemberg|  male|    60-79|   1065669|\n",
      "|Baden-Wuerttemberg|  male|    80-99|    264560|\n",
      "|            Bayern|female|    00-04|    306378|\n",
      "|            Bayern|female|    05-14|    560549|\n",
      "|            Bayern|female|    15-34|   1507659|\n",
      "|            Bayern|female|    35-59|   2310659|\n",
      "|            Bayern|female|    60-79|   1421273|\n",
      "|            Bayern|female|    80-99|    486410|\n",
      "|            Bayern|  male|    00-04|    321629|\n",
      "|            Bayern|  male|    05-14|    590551|\n",
      "+------------------+------+---------+----------+\n",
      "only showing top 20 rows\n",
      "\n"
     ]
    }
   ],
   "source": [
    "table = spark.table('demographics')\n",
    "table.show()"
   ]
  },
  {
   "cell_type": "markdown",
   "id": "675c8915-a10b-4187-85cf-c1daf3bd0942",
   "metadata": {
    "tags": []
   },
   "source": [
    "## Exercice 1: Afficher les cinq premières lignes du DataFrame.\n",
    "\n"
   ]
  },
  {
   "cell_type": "code",
   "execution_count": 8,
   "id": "3280b26f-14be-48bc-9047-b4e25132a6d3",
   "metadata": {
    "tags": []
   },
   "outputs": [
    {
     "name": "stdout",
     "output_type": "stream",
     "text": [
      "+------------------+------+---------+----------+\n",
      "|             state|gender|age_group|population|\n",
      "+------------------+------+---------+----------+\n",
      "|Baden-Wuerttemberg|female|    00-04|    261674|\n",
      "|Baden-Wuerttemberg|female|    05-14|    490822|\n",
      "|Baden-Wuerttemberg|female|    15-34|   1293488|\n",
      "|Baden-Wuerttemberg|female|    35-59|   1919649|\n",
      "|Baden-Wuerttemberg|female|    60-79|   1182736|\n",
      "+------------------+------+---------+----------+\n",
      "\n"
     ]
    }
   ],
   "source": [
    "table.select('*').limit(5).show()"
   ]
  },
  {
   "cell_type": "markdown",
   "id": "f14457e7-4066-4803-a2f7-83edbd5b21cf",
   "metadata": {},
   "source": [
    "## Exercice 2: Compter le nombre total de lignes dans le DataFrame.\n",
    "\n"
   ]
  },
  {
   "cell_type": "code",
   "execution_count": 26,
   "id": "cda39ece-7392-40e2-94d3-0bc4eddf3995",
   "metadata": {
    "tags": []
   },
   "outputs": [
    {
     "data": {
      "text/plain": [
       "192"
      ]
     },
     "execution_count": 26,
     "metadata": {},
     "output_type": "execute_result"
    }
   ],
   "source": [
    "table.count()"
   ]
  },
  {
   "cell_type": "markdown",
   "id": "b5ec5f3d-d8b5-409c-9af5-fbacba8eb4d0",
   "metadata": {},
   "source": [
    "## Exercice 3: Trouver le nombre distinct d'états (states) présents dans le DataFrame.\n",
    "\n"
   ]
  },
  {
   "cell_type": "code",
   "execution_count": 15,
   "id": "100a4c4d-2692-4750-ad75-207c7cf71a51",
   "metadata": {
    "tags": []
   },
   "outputs": [
    {
     "data": {
      "text/plain": [
       "16"
      ]
     },
     "execution_count": 15,
     "metadata": {},
     "output_type": "execute_result"
    }
   ],
   "source": [
    "table.select('state').distinct().count()"
   ]
  },
  {
   "cell_type": "markdown",
   "id": "a1f768cc-11c5-435c-a0d9-7dbcb6cf3cc3",
   "metadata": {},
   "source": [
    "## Exercice 4: Calculer la somme de la population totale.\n",
    "\n"
   ]
  },
  {
   "cell_type": "code",
   "execution_count": 45,
   "id": "1817cb7d-c13a-4d8c-81b6-fd8b186d022c",
   "metadata": {
    "tags": []
   },
   "outputs": [
    {
     "name": "stdout",
     "output_type": "stream",
     "text": [
      "+---------------+\n",
      "|sum(population)|\n",
      "+---------------+\n",
      "|       83019213|\n",
      "+---------------+\n",
      "\n"
     ]
    }
   ],
   "source": [
    "popTot = table.agg(sum(col('population')))\n",
    "popTot.show()"
   ]
  },
  {
   "cell_type": "markdown",
   "id": "75b81471-bcd8-422d-be0c-444b29ffc09d",
   "metadata": {},
   "source": [
    "## Exercice 5: Afficher la population maximale par groupe d'âge (age_group).\n",
    "\n"
   ]
  },
  {
   "cell_type": "markdown",
   "id": "606bd087-97a4-4b57-b5b7-31661079e730",
   "metadata": {},
   "source": [
    "```sql\n",
    "select sum(population), age_group\n",
    "from table\n",
    "group by age_group;\n",
    "```"
   ]
  },
  {
   "cell_type": "code",
   "execution_count": 30,
   "id": "a76e19e8-39c4-494d-bdb0-c934030e3f0f",
   "metadata": {
    "tags": []
   },
   "outputs": [
    {
     "name": "stdout",
     "output_type": "stream",
     "text": [
      "+---------+---------------+\n",
      "|age_group|max(population)|\n",
      "+---------+---------------+\n",
      "|    80-99|         729148|\n",
      "|    05-14|         832251|\n",
      "|    35-59|        3147565|\n",
      "|    60-79|        2009976|\n",
      "|    00-04|         440708|\n",
      "|    15-34|        2188068|\n",
      "+---------+---------------+\n",
      "\n"
     ]
    }
   ],
   "source": [
    "table.select('population','age_group').groupby('age_group').agg(max(col('population'))).show()"
   ]
  },
  {
   "cell_type": "markdown",
   "id": "54f88748-3222-44ee-b470-203fd31eec16",
   "metadata": {},
   "source": [
    "## Exercice 6: Filtrer les lignes du DataFrame pour n'inclure que les états (states) dont la population dépasse 1 million.\n",
    "\n"
   ]
  },
  {
   "cell_type": "markdown",
   "id": "a11fb454-f61a-43d4-9c82-ed9034e51834",
   "metadata": {},
   "source": [
    "```sql\n",
    "select states, population\n",
    "from table\n",
    "where population > 1000000;\n",
    "```"
   ]
  },
  {
   "cell_type": "code",
   "execution_count": 35,
   "id": "af2509aa-9e6d-4b59-a6da-823da1f7346b",
   "metadata": {
    "tags": []
   },
   "outputs": [
    {
     "name": "stdout",
     "output_type": "stream",
     "text": [
      "+-------------------+----------+\n",
      "|              state|population|\n",
      "+-------------------+----------+\n",
      "| Baden-Wuerttemberg|   1293488|\n",
      "| Baden-Wuerttemberg|   1919649|\n",
      "| Baden-Wuerttemberg|   1182736|\n",
      "| Baden-Wuerttemberg|   1423367|\n",
      "| Baden-Wuerttemberg|   1955828|\n",
      "| Baden-Wuerttemberg|   1065669|\n",
      "|             Bayern|   1507659|\n",
      "|             Bayern|   2310659|\n",
      "|             Bayern|   1421273|\n",
      "|             Bayern|   1639500|\n",
      "|             Bayern|   2348310|\n",
      "|             Bayern|   1285577|\n",
      "|             Hessen|   1111053|\n",
      "|             Hessen|   1111560|\n",
      "|      Niedersachsen|   1392647|\n",
      "|      Niedersachsen|   1391992|\n",
      "|Nordrhein-Westfalen|   2047533|\n",
      "|Nordrhein-Westfalen|   3147565|\n",
      "|Nordrhein-Westfalen|   2009976|\n",
      "|Nordrhein-Westfalen|   2188068|\n",
      "+-------------------+----------+\n",
      "only showing top 20 rows\n",
      "\n"
     ]
    }
   ],
   "source": [
    "table.select('state','population').filter(col('population') > 1000000).show()"
   ]
  },
  {
   "cell_type": "markdown",
   "id": "1c08ee83-f42f-4bd6-b73f-44858073251d",
   "metadata": {},
   "source": [
    "## Exercice 7: Calculer la moyenne de la population pour chaque groupe d'âge (age_group).\n",
    "\n"
   ]
  },
  {
   "cell_type": "markdown",
   "id": "b16542f3-9726-48c3-a119-cbf2528d6263",
   "metadata": {},
   "source": [
    "```sql\n",
    "select age_group, avg(population)\n",
    "from table\n",
    "group by age_group;\n",
    "```"
   ]
  },
  {
   "cell_type": "code",
   "execution_count": 36,
   "id": "3c543e51-2bbc-4dc4-bbea-a1909cc93396",
   "metadata": {
    "tags": []
   },
   "outputs": [
    {
     "name": "stdout",
     "output_type": "stream",
     "text": [
      "+---------+---------------+\n",
      "|age_group|avg(population)|\n",
      "+---------+---------------+\n",
      "|    80-99|    168409.5625|\n",
      "|    05-14|    230138.0625|\n",
      "|    35-59|   910557.46875|\n",
      "|    60-79|     562135.625|\n",
      "|    00-04|   122699.90625|\n",
      "|    15-34|   600409.78125|\n",
      "+---------+---------------+\n",
      "\n"
     ]
    }
   ],
   "source": [
    "table.select('*').groupby('age_group').agg(avg(col('population'))).show()"
   ]
  },
  {
   "cell_type": "markdown",
   "id": "0c57825b-e204-4438-919c-52a3a8fad333",
   "metadata": {},
   "source": [
    "## Exercice 8: Trier le DataFrame par ordre décroissant de population.\n",
    "\n"
   ]
  },
  {
   "cell_type": "markdown",
   "id": "a588419b-bfed-4981-8561-5f29018b2e90",
   "metadata": {},
   "source": [
    "```sql\n",
    "select *\n",
    "from table\n",
    "order by population desc;\n",
    "```"
   ]
  },
  {
   "cell_type": "code",
   "execution_count": 39,
   "id": "193e31f5-6f81-431f-8e23-042d03730598",
   "metadata": {
    "tags": []
   },
   "outputs": [
    {
     "name": "stdout",
     "output_type": "stream",
     "text": [
      "+-------------------+------+---------+----------+\n",
      "|              state|gender|age_group|population|\n",
      "+-------------------+------+---------+----------+\n",
      "|Nordrhein-Westfalen|female|    35-59|   3147565|\n",
      "|Nordrhein-Westfalen|  male|    35-59|   3127984|\n",
      "|             Bayern|  male|    35-59|   2348310|\n",
      "|             Bayern|female|    35-59|   2310659|\n",
      "|Nordrhein-Westfalen|  male|    15-34|   2188068|\n",
      "|Nordrhein-Westfalen|female|    15-34|   2047533|\n",
      "|Nordrhein-Westfalen|female|    60-79|   2009976|\n",
      "| Baden-Wuerttemberg|  male|    35-59|   1955828|\n",
      "| Baden-Wuerttemberg|female|    35-59|   1919649|\n",
      "|Nordrhein-Westfalen|  male|    60-79|   1775275|\n",
      "|             Bayern|  male|    15-34|   1639500|\n",
      "|             Bayern|female|    15-34|   1507659|\n",
      "| Baden-Wuerttemberg|  male|    15-34|   1423367|\n",
      "|             Bayern|female|    60-79|   1421273|\n",
      "|      Niedersachsen|female|    35-59|   1392647|\n",
      "|      Niedersachsen|  male|    35-59|   1391992|\n",
      "| Baden-Wuerttemberg|female|    15-34|   1293488|\n",
      "|             Bayern|  male|    60-79|   1285577|\n",
      "| Baden-Wuerttemberg|female|    60-79|   1182736|\n",
      "|             Hessen|  male|    35-59|   1111560|\n",
      "+-------------------+------+---------+----------+\n",
      "only showing top 20 rows\n",
      "\n"
     ]
    }
   ],
   "source": [
    "table.select('*').sort(col('population').desc()).show()"
   ]
  },
  {
   "cell_type": "markdown",
   "id": "7f67fefc-2b53-4a0f-8f29-a04ed781a12d",
   "metadata": {},
   "source": [
    "## Exercice 9: Sélectionner les lignes du DataFrame où l'âge (age_group) est \"15-34\" et le sexe (gender) est \"female\".\n",
    "\n"
   ]
  },
  {
   "cell_type": "markdown",
   "id": "dec28b79-809e-4b89-a75f-0a32c76d16c2",
   "metadata": {},
   "source": [
    "```sql\n",
    "select *\n",
    "from table\n",
    "where age_group = \"18-24\" and gender = \"F\";\n",
    "```"
   ]
  },
  {
   "cell_type": "code",
   "execution_count": 43,
   "id": "fb9bc89c-c6b9-4ef9-9cf6-38c146bd72ca",
   "metadata": {
    "tags": []
   },
   "outputs": [
    {
     "name": "stdout",
     "output_type": "stream",
     "text": [
      "+--------------------+------+---------+----------+\n",
      "|               state|gender|age_group|population|\n",
      "+--------------------+------+---------+----------+\n",
      "|  Baden-Wuerttemberg|female|    15-34|   1293488|\n",
      "|              Bayern|female|    15-34|   1507659|\n",
      "|              Berlin|female|    15-34|    477479|\n",
      "|         Brandenburg|female|    15-34|    213065|\n",
      "|              Bremen|female|    15-34|     83990|\n",
      "|             Hamburg|female|    15-34|    246744|\n",
      "|              Hessen|female|    15-34|    715254|\n",
      "|Mecklenburg-Vorpo...|female|    15-34|    146826|\n",
      "|       Niedersachsen|female|    15-34|    875509|\n",
      "| Nordrhein-Westfalen|female|    15-34|   2047533|\n",
      "|     Rheinland-Pfalz|female|    15-34|    448341|\n",
      "|            Saarland|female|    15-34|    103235|\n",
      "|             Sachsen|female|    15-34|    386154|\n",
      "|      Sachsen-Anhalt|female|    15-34|    193271|\n",
      "|  Schleswig-Holstein|female|    15-34|    305125|\n",
      "|          Thueringen|female|    15-34|    191712|\n",
      "+--------------------+------+---------+----------+\n",
      "\n"
     ]
    }
   ],
   "source": [
    "table.filter((col('age_group') == '15-34') & (col('gender') == 'female')).show()"
   ]
  },
  {
   "cell_type": "markdown",
   "id": "ec28f498-28a9-43c8-8e82-9574dc40b5d7",
   "metadata": {},
   "source": [
    "## Exercice 10: Ajouter une nouvelle colonne \"population_percentage\" qui représente la proportion de la population par rapport à la population totale.\n",
    "\n"
   ]
  },
  {
   "cell_type": "code",
   "execution_count": 55,
   "id": "adb71aed-3a0d-4c13-a0b9-9cf5b400174a",
   "metadata": {
    "tags": []
   },
   "outputs": [
    {
     "name": "stdout",
     "output_type": "stream",
     "text": [
      "+------------------+------+---------+----------+---------------------+\n",
      "|             state|gender|age_group|population|population_percentage|\n",
      "+------------------+------+---------+----------+---------------------+\n",
      "|Baden-Wuerttemberg|female|    00-04|    261674|                 0.32|\n",
      "|Baden-Wuerttemberg|female|    05-14|    490822|                 0.59|\n",
      "|Baden-Wuerttemberg|female|    15-34|   1293488|                 1.56|\n",
      "|Baden-Wuerttemberg|female|    35-59|   1919649|                 2.31|\n",
      "|Baden-Wuerttemberg|female|    60-79|   1182736|                 1.42|\n",
      "|Baden-Wuerttemberg|female|    80-99|    419471|                 0.51|\n",
      "|Baden-Wuerttemberg|  male|    00-04|    274882|                 0.33|\n",
      "|Baden-Wuerttemberg|  male|    05-14|    517387|                 0.62|\n",
      "|Baden-Wuerttemberg|  male|    15-34|   1423367|                 1.71|\n",
      "|Baden-Wuerttemberg|  male|    35-59|   1955828|                 2.36|\n",
      "|Baden-Wuerttemberg|  male|    60-79|   1065669|                 1.28|\n",
      "|Baden-Wuerttemberg|  male|    80-99|    264560|                 0.32|\n",
      "|            Bayern|female|    00-04|    306378|                 0.37|\n",
      "|            Bayern|female|    05-14|    560549|                 0.68|\n",
      "|            Bayern|female|    15-34|   1507659|                 1.82|\n",
      "|            Bayern|female|    35-59|   2310659|                 2.78|\n",
      "|            Bayern|female|    60-79|   1421273|                 1.71|\n",
      "|            Bayern|female|    80-99|    486410|                 0.59|\n",
      "|            Bayern|  male|    00-04|    321629|                 0.39|\n",
      "|            Bayern|  male|    05-14|    590551|                 0.71|\n",
      "+------------------+------+---------+----------+---------------------+\n",
      "only showing top 20 rows\n",
      "\n"
     ]
    }
   ],
   "source": [
    "addCol = table.withColumn('population_percentage', round(col('population') / popTot.collect()[0][0]*100, 2))\n",
    "addCol.show()"
   ]
  }
 ],
 "metadata": {
  "kernelspec": {
   "display_name": "Python 3 (ipykernel)",
   "language": "python",
   "name": "python3"
  },
  "language_info": {
   "codemirror_mode": {
    "name": "ipython",
    "version": 3
   },
   "file_extension": ".py",
   "mimetype": "text/x-python",
   "name": "python",
   "nbconvert_exporter": "python",
   "pygments_lexer": "ipython3",
   "version": "3.10.11"
  }
 },
 "nbformat": 4,
 "nbformat_minor": 5
}
